{
  "nbformat": 4,
  "nbformat_minor": 0,
  "metadata": {
    "colab": {
      "provenance": []
    },
    "kernelspec": {
      "name": "python3",
      "display_name": "Python 3"
    },
    "language_info": {
      "name": "python"
    }
  },
  "cells": [
    {
      "cell_type": "code",
      "execution_count": 2,
      "metadata": {
        "id": "4jy1OvICMhmC",
        "colab": {
          "base_uri": "https://localhost:8080/"
        },
        "collapsed": true,
        "outputId": "4e8c06e0-94ea-4191-c040-9eeef088b5d4"
      },
      "outputs": [
        {
          "output_type": "stream",
          "name": "stdout",
          "text": [
            "Found existing installation: xgboost 2.1.4\n",
            "Uninstalling xgboost-2.1.4:\n",
            "  Successfully uninstalled xgboost-2.1.4\n",
            "Collecting xgboost\n",
            "  Downloading xgboost-3.0.0-py3-none-manylinux_2_28_x86_64.whl.metadata (2.1 kB)\n",
            "Collecting numpy (from xgboost)\n",
            "  Downloading numpy-2.2.5-cp311-cp311-manylinux_2_17_x86_64.manylinux2014_x86_64.whl.metadata (62 kB)\n",
            "\u001b[2K     \u001b[90m━━━━━━━━━━━━━━━━━━━━━━━━━━━━━━━━━━━━━━━━\u001b[0m \u001b[32m62.0/62.0 kB\u001b[0m \u001b[31m5.4 MB/s\u001b[0m eta \u001b[36m0:00:00\u001b[0m\n",
            "\u001b[?25hCollecting nvidia-nccl-cu12 (from xgboost)\n",
            "  Downloading nvidia_nccl_cu12-2.26.2.post1-py3-none-manylinux2014_x86_64.manylinux_2_17_x86_64.whl.metadata (2.0 kB)\n",
            "Collecting scipy (from xgboost)\n",
            "  Downloading scipy-1.15.2-cp311-cp311-manylinux_2_17_x86_64.manylinux2014_x86_64.whl.metadata (61 kB)\n",
            "\u001b[2K     \u001b[90m━━━━━━━━━━━━━━━━━━━━━━━━━━━━━━━━━━━━━━━━\u001b[0m \u001b[32m62.0/62.0 kB\u001b[0m \u001b[31m5.9 MB/s\u001b[0m eta \u001b[36m0:00:00\u001b[0m\n",
            "\u001b[?25hDownloading xgboost-3.0.0-py3-none-manylinux_2_28_x86_64.whl (253.9 MB)\n",
            "\u001b[2K   \u001b[90m━━━━━━━━━━━━━━━━━━━━━━━━━━━━━━━━━━━━━━━\u001b[0m \u001b[32m253.9/253.9 MB\u001b[0m \u001b[31m223.5 MB/s\u001b[0m eta \u001b[36m0:00:00\u001b[0m\n",
            "\u001b[?25hDownloading numpy-2.2.5-cp311-cp311-manylinux_2_17_x86_64.manylinux2014_x86_64.whl (16.4 MB)\n",
            "\u001b[2K   \u001b[90m━━━━━━━━━━━━━━━━━━━━━━━━━━━━━━━━━━━━━━━━\u001b[0m \u001b[32m16.4/16.4 MB\u001b[0m \u001b[31m224.6 MB/s\u001b[0m eta \u001b[36m0:00:00\u001b[0m\n",
            "\u001b[?25hDownloading nvidia_nccl_cu12-2.26.2.post1-py3-none-manylinux2014_x86_64.manylinux_2_17_x86_64.whl (291.7 MB)\n",
            "\u001b[2K   \u001b[90m━━━━━━━━━━━━━━━━━━━━━━━━━━━━━━━━━━━━━━━━\u001b[0m \u001b[32m291.7/291.7 MB\u001b[0m \u001b[31m2.9 MB/s\u001b[0m eta \u001b[36m0:00:00\u001b[0m\n",
            "\u001b[?25hDownloading scipy-1.15.2-cp311-cp311-manylinux_2_17_x86_64.manylinux2014_x86_64.whl (37.6 MB)\n",
            "\u001b[2K   \u001b[90m━━━━━━━━━━━━━━━━━━━━━━━━━━━━━━━━━━━━━━━━\u001b[0m \u001b[32m37.6/37.6 MB\u001b[0m \u001b[31m193.6 MB/s\u001b[0m eta \u001b[36m0:00:00\u001b[0m\n",
            "\u001b[?25hInstalling collected packages: nvidia-nccl-cu12, numpy, scipy, xgboost\n",
            "  Attempting uninstall: nvidia-nccl-cu12\n",
            "    Found existing installation: nvidia-nccl-cu12 2.21.5\n",
            "    Uninstalling nvidia-nccl-cu12-2.21.5:\n",
            "      Successfully uninstalled nvidia-nccl-cu12-2.21.5\n",
            "  Attempting uninstall: numpy\n",
            "    Found existing installation: numpy 2.0.2\n",
            "    Uninstalling numpy-2.0.2:\n",
            "      Successfully uninstalled numpy-2.0.2\n",
            "  Attempting uninstall: scipy\n",
            "    Found existing installation: scipy 1.14.1\n",
            "    Uninstalling scipy-1.14.1:\n",
            "      Successfully uninstalled scipy-1.14.1\n",
            "\u001b[31mERROR: pip's dependency resolver does not currently take into account all the packages that are installed. This behaviour is the source of the following dependency conflicts.\n",
            "torch 2.6.0+cu124 requires nvidia-cublas-cu12==12.4.5.8; platform_system == \"Linux\" and platform_machine == \"x86_64\", but you have nvidia-cublas-cu12 12.5.3.2 which is incompatible.\n",
            "torch 2.6.0+cu124 requires nvidia-cuda-cupti-cu12==12.4.127; platform_system == \"Linux\" and platform_machine == \"x86_64\", but you have nvidia-cuda-cupti-cu12 12.5.82 which is incompatible.\n",
            "torch 2.6.0+cu124 requires nvidia-cuda-nvrtc-cu12==12.4.127; platform_system == \"Linux\" and platform_machine == \"x86_64\", but you have nvidia-cuda-nvrtc-cu12 12.5.82 which is incompatible.\n",
            "torch 2.6.0+cu124 requires nvidia-cuda-runtime-cu12==12.4.127; platform_system == \"Linux\" and platform_machine == \"x86_64\", but you have nvidia-cuda-runtime-cu12 12.5.82 which is incompatible.\n",
            "torch 2.6.0+cu124 requires nvidia-cudnn-cu12==9.1.0.70; platform_system == \"Linux\" and platform_machine == \"x86_64\", but you have nvidia-cudnn-cu12 9.3.0.75 which is incompatible.\n",
            "torch 2.6.0+cu124 requires nvidia-cufft-cu12==11.2.1.3; platform_system == \"Linux\" and platform_machine == \"x86_64\", but you have nvidia-cufft-cu12 11.2.3.61 which is incompatible.\n",
            "torch 2.6.0+cu124 requires nvidia-curand-cu12==10.3.5.147; platform_system == \"Linux\" and platform_machine == \"x86_64\", but you have nvidia-curand-cu12 10.3.6.82 which is incompatible.\n",
            "torch 2.6.0+cu124 requires nvidia-cusolver-cu12==11.6.1.9; platform_system == \"Linux\" and platform_machine == \"x86_64\", but you have nvidia-cusolver-cu12 11.6.3.83 which is incompatible.\n",
            "torch 2.6.0+cu124 requires nvidia-cusparse-cu12==12.3.1.170; platform_system == \"Linux\" and platform_machine == \"x86_64\", but you have nvidia-cusparse-cu12 12.5.1.3 which is incompatible.\n",
            "torch 2.6.0+cu124 requires nvidia-nccl-cu12==2.21.5; platform_system == \"Linux\" and platform_machine == \"x86_64\", but you have nvidia-nccl-cu12 2.26.2.post1 which is incompatible.\n",
            "torch 2.6.0+cu124 requires nvidia-nvjitlink-cu12==12.4.127; platform_system == \"Linux\" and platform_machine == \"x86_64\", but you have nvidia-nvjitlink-cu12 12.5.82 which is incompatible.\n",
            "numba 0.60.0 requires numpy<2.1,>=1.22, but you have numpy 2.2.5 which is incompatible.\n",
            "tensorflow 2.18.0 requires numpy<2.1.0,>=1.26.0, but you have numpy 2.2.5 which is incompatible.\u001b[0m\u001b[31m\n",
            "\u001b[0mSuccessfully installed numpy-2.2.5 nvidia-nccl-cu12-2.26.2.post1 scipy-1.15.2 xgboost-3.0.0\n"
          ]
        }
      ],
      "source": [
        "# Install Python libraries\n",
        "!pip uninstall -y xgboost\n",
        "!pip install xgboost --no-cache-dir --force-reinstall"
      ]
    },
    {
      "cell_type": "code",
      "source": [
        "from google.colab import drive\n",
        "drive.mount('/content/drive')"
      ],
      "metadata": {
        "colab": {
          "base_uri": "https://localhost:8080/"
        },
        "id": "1qawDvLOkv4o",
        "outputId": "eeb2178a-af5b-48c9-8480-dec29ce4a816"
      },
      "execution_count": 3,
      "outputs": [
        {
          "output_type": "stream",
          "name": "stdout",
          "text": [
            "Mounted at /content/drive\n"
          ]
        }
      ]
    },
    {
      "cell_type": "code",
      "source": [
        "# Uninstall and reinstall NumPy cleanly\n",
        "!pip uninstall -y numpy\n",
        "!pip install numpy --upgrade --force-reinstall --no-cache-dir"
      ],
      "metadata": {
        "colab": {
          "base_uri": "https://localhost:8080/"
        },
        "id": "Gla9sNprlQGh",
        "outputId": "3a055e70-f2fc-4739-d0b5-1408e5a67bb9"
      },
      "execution_count": 5,
      "outputs": [
        {
          "output_type": "stream",
          "name": "stdout",
          "text": [
            "Found existing installation: numpy 2.2.5\n",
            "Uninstalling numpy-2.2.5:\n",
            "  Successfully uninstalled numpy-2.2.5\n",
            "Collecting numpy\n",
            "  Downloading numpy-2.2.5-cp311-cp311-manylinux_2_17_x86_64.manylinux2014_x86_64.whl.metadata (62 kB)\n",
            "\u001b[2K     \u001b[90m━━━━━━━━━━━━━━━━━━━━━━━━━━━━━━━━━━━━━━━━\u001b[0m \u001b[32m62.0/62.0 kB\u001b[0m \u001b[31m4.2 MB/s\u001b[0m eta \u001b[36m0:00:00\u001b[0m\n",
            "\u001b[?25hDownloading numpy-2.2.5-cp311-cp311-manylinux_2_17_x86_64.manylinux2014_x86_64.whl (16.4 MB)\n",
            "\u001b[2K   \u001b[90m━━━━━━━━━━━━━━━━━━━━━━━━━━━━━━━━━━━━━━━━\u001b[0m \u001b[32m16.4/16.4 MB\u001b[0m \u001b[31m103.5 MB/s\u001b[0m eta \u001b[36m0:00:00\u001b[0m\n",
            "\u001b[?25hInstalling collected packages: numpy\n",
            "\u001b[31mERROR: pip's dependency resolver does not currently take into account all the packages that are installed. This behaviour is the source of the following dependency conflicts.\n",
            "numba 0.60.0 requires numpy<2.1,>=1.22, but you have numpy 2.2.5 which is incompatible.\n",
            "tensorflow 2.18.0 requires numpy<2.1.0,>=1.26.0, but you have numpy 2.2.5 which is incompatible.\u001b[0m\u001b[31m\n",
            "\u001b[0mSuccessfully installed numpy-2.2.5\n"
          ]
        }
      ]
    },
    {
      "cell_type": "code",
      "source": [
        "# Import Python libraries\n",
        "from sklearn.model_selection import train_test_split\n",
        "from sklearn.ensemble import RandomForestRegressor\n",
        "from sklearn.model_selection import RandomizedSearchCV\n",
        "from sklearn.preprocessing import LabelEncoder\n",
        "from sklearn.neighbors import NearestNeighbors\n",
        "import pandas as pd\n",
        "import io\n",
        "from google.colab import files\n",
        "import numpy as np\n",
        "from xgboost import XGBRegressor\n",
        "from sklearn.linear_model import LinearRegression\n",
        "from sklearn.metrics import mean_absolute_error, mean_squared_error, r2_score"
      ],
      "metadata": {
        "id": "FqjPvYBFMyzc"
      },
      "execution_count": 1,
      "outputs": []
    },
    {
      "cell_type": "code",
      "source": [
        "# Upload CSV file\n",
        "uploaded = files.upload()"
      ],
      "metadata": {
        "collapsed": true,
        "id": "4QhXeixnM3IB",
        "colab": {
          "base_uri": "https://localhost:8080/",
          "height": 73
        },
        "outputId": "ae4c67c5-f843-4f36-d822-1b29c931cd05"
      },
      "execution_count": 2,
      "outputs": [
        {
          "output_type": "display_data",
          "data": {
            "text/plain": [
              "<IPython.core.display.HTML object>"
            ],
            "text/html": [
              "\n",
              "     <input type=\"file\" id=\"files-05ec80ef-cb87-480d-9d0c-26f4dd9660cd\" name=\"files[]\" multiple disabled\n",
              "        style=\"border:none\" />\n",
              "     <output id=\"result-05ec80ef-cb87-480d-9d0c-26f4dd9660cd\">\n",
              "      Upload widget is only available when the cell has been executed in the\n",
              "      current browser session. Please rerun this cell to enable.\n",
              "      </output>\n",
              "      <script>// Copyright 2017 Google LLC\n",
              "//\n",
              "// Licensed under the Apache License, Version 2.0 (the \"License\");\n",
              "// you may not use this file except in compliance with the License.\n",
              "// You may obtain a copy of the License at\n",
              "//\n",
              "//      http://www.apache.org/licenses/LICENSE-2.0\n",
              "//\n",
              "// Unless required by applicable law or agreed to in writing, software\n",
              "// distributed under the License is distributed on an \"AS IS\" BASIS,\n",
              "// WITHOUT WARRANTIES OR CONDITIONS OF ANY KIND, either express or implied.\n",
              "// See the License for the specific language governing permissions and\n",
              "// limitations under the License.\n",
              "\n",
              "/**\n",
              " * @fileoverview Helpers for google.colab Python module.\n",
              " */\n",
              "(function(scope) {\n",
              "function span(text, styleAttributes = {}) {\n",
              "  const element = document.createElement('span');\n",
              "  element.textContent = text;\n",
              "  for (const key of Object.keys(styleAttributes)) {\n",
              "    element.style[key] = styleAttributes[key];\n",
              "  }\n",
              "  return element;\n",
              "}\n",
              "\n",
              "// Max number of bytes which will be uploaded at a time.\n",
              "const MAX_PAYLOAD_SIZE = 100 * 1024;\n",
              "\n",
              "function _uploadFiles(inputId, outputId) {\n",
              "  const steps = uploadFilesStep(inputId, outputId);\n",
              "  const outputElement = document.getElementById(outputId);\n",
              "  // Cache steps on the outputElement to make it available for the next call\n",
              "  // to uploadFilesContinue from Python.\n",
              "  outputElement.steps = steps;\n",
              "\n",
              "  return _uploadFilesContinue(outputId);\n",
              "}\n",
              "\n",
              "// This is roughly an async generator (not supported in the browser yet),\n",
              "// where there are multiple asynchronous steps and the Python side is going\n",
              "// to poll for completion of each step.\n",
              "// This uses a Promise to block the python side on completion of each step,\n",
              "// then passes the result of the previous step as the input to the next step.\n",
              "function _uploadFilesContinue(outputId) {\n",
              "  const outputElement = document.getElementById(outputId);\n",
              "  const steps = outputElement.steps;\n",
              "\n",
              "  const next = steps.next(outputElement.lastPromiseValue);\n",
              "  return Promise.resolve(next.value.promise).then((value) => {\n",
              "    // Cache the last promise value to make it available to the next\n",
              "    // step of the generator.\n",
              "    outputElement.lastPromiseValue = value;\n",
              "    return next.value.response;\n",
              "  });\n",
              "}\n",
              "\n",
              "/**\n",
              " * Generator function which is called between each async step of the upload\n",
              " * process.\n",
              " * @param {string} inputId Element ID of the input file picker element.\n",
              " * @param {string} outputId Element ID of the output display.\n",
              " * @return {!Iterable<!Object>} Iterable of next steps.\n",
              " */\n",
              "function* uploadFilesStep(inputId, outputId) {\n",
              "  const inputElement = document.getElementById(inputId);\n",
              "  inputElement.disabled = false;\n",
              "\n",
              "  const outputElement = document.getElementById(outputId);\n",
              "  outputElement.innerHTML = '';\n",
              "\n",
              "  const pickedPromise = new Promise((resolve) => {\n",
              "    inputElement.addEventListener('change', (e) => {\n",
              "      resolve(e.target.files);\n",
              "    });\n",
              "  });\n",
              "\n",
              "  const cancel = document.createElement('button');\n",
              "  inputElement.parentElement.appendChild(cancel);\n",
              "  cancel.textContent = 'Cancel upload';\n",
              "  const cancelPromise = new Promise((resolve) => {\n",
              "    cancel.onclick = () => {\n",
              "      resolve(null);\n",
              "    };\n",
              "  });\n",
              "\n",
              "  // Wait for the user to pick the files.\n",
              "  const files = yield {\n",
              "    promise: Promise.race([pickedPromise, cancelPromise]),\n",
              "    response: {\n",
              "      action: 'starting',\n",
              "    }\n",
              "  };\n",
              "\n",
              "  cancel.remove();\n",
              "\n",
              "  // Disable the input element since further picks are not allowed.\n",
              "  inputElement.disabled = true;\n",
              "\n",
              "  if (!files) {\n",
              "    return {\n",
              "      response: {\n",
              "        action: 'complete',\n",
              "      }\n",
              "    };\n",
              "  }\n",
              "\n",
              "  for (const file of files) {\n",
              "    const li = document.createElement('li');\n",
              "    li.append(span(file.name, {fontWeight: 'bold'}));\n",
              "    li.append(span(\n",
              "        `(${file.type || 'n/a'}) - ${file.size} bytes, ` +\n",
              "        `last modified: ${\n",
              "            file.lastModifiedDate ? file.lastModifiedDate.toLocaleDateString() :\n",
              "                                    'n/a'} - `));\n",
              "    const percent = span('0% done');\n",
              "    li.appendChild(percent);\n",
              "\n",
              "    outputElement.appendChild(li);\n",
              "\n",
              "    const fileDataPromise = new Promise((resolve) => {\n",
              "      const reader = new FileReader();\n",
              "      reader.onload = (e) => {\n",
              "        resolve(e.target.result);\n",
              "      };\n",
              "      reader.readAsArrayBuffer(file);\n",
              "    });\n",
              "    // Wait for the data to be ready.\n",
              "    let fileData = yield {\n",
              "      promise: fileDataPromise,\n",
              "      response: {\n",
              "        action: 'continue',\n",
              "      }\n",
              "    };\n",
              "\n",
              "    // Use a chunked sending to avoid message size limits. See b/62115660.\n",
              "    let position = 0;\n",
              "    do {\n",
              "      const length = Math.min(fileData.byteLength - position, MAX_PAYLOAD_SIZE);\n",
              "      const chunk = new Uint8Array(fileData, position, length);\n",
              "      position += length;\n",
              "\n",
              "      const base64 = btoa(String.fromCharCode.apply(null, chunk));\n",
              "      yield {\n",
              "        response: {\n",
              "          action: 'append',\n",
              "          file: file.name,\n",
              "          data: base64,\n",
              "        },\n",
              "      };\n",
              "\n",
              "      let percentDone = fileData.byteLength === 0 ?\n",
              "          100 :\n",
              "          Math.round((position / fileData.byteLength) * 100);\n",
              "      percent.textContent = `${percentDone}% done`;\n",
              "\n",
              "    } while (position < fileData.byteLength);\n",
              "  }\n",
              "\n",
              "  // All done.\n",
              "  yield {\n",
              "    response: {\n",
              "      action: 'complete',\n",
              "    }\n",
              "  };\n",
              "}\n",
              "\n",
              "scope.google = scope.google || {};\n",
              "scope.google.colab = scope.google.colab || {};\n",
              "scope.google.colab._files = {\n",
              "  _uploadFiles,\n",
              "  _uploadFilesContinue,\n",
              "};\n",
              "})(self);\n",
              "</script> "
            ]
          },
          "metadata": {}
        },
        {
          "output_type": "stream",
          "name": "stdout",
          "text": [
            "Saving Redfin_Sold_OaklandCounty_OneYear.xlsx to Redfin_Sold_OaklandCounty_OneYear.xlsx\n"
          ]
        }
      ]
    },
    {
      "cell_type": "code",
      "source": [
        "# Create dataframe\n",
        "df = pd.read_excel('Redfin_Sold_OaklandCounty_OneYear.xlsx')"
      ],
      "metadata": {
        "collapsed": true,
        "id": "pO3-eWQpNVzy"
      },
      "execution_count": 3,
      "outputs": []
    },
    {
      "cell_type": "code",
      "source": [
        "df.head()"
      ],
      "metadata": {
        "colab": {
          "base_uri": "https://localhost:8080/",
          "height": 481
        },
        "id": "5iuf410lmCuA",
        "outputId": "f78ea410-1830-45d0-d9ef-c69229d32cb2"
      },
      "execution_count": 4,
      "outputs": [
        {
          "output_type": "execute_result",
          "data": {
            "text/plain": [
              "   SALE TYPE         SOLD DATE              PROPERTY TYPE  \\\n",
              "0  PAST SALE               NaN  Single Family Residential   \n",
              "1  PAST SALE   January-13-2025                Condo/Co-op   \n",
              "2  PAST SALE               NaN                Condo/Co-op   \n",
              "3  PAST SALE  February-21-2025                    Unknown   \n",
              "4  PAST SALE   February-3-2025  Single Family Residential   \n",
              "\n",
              "               ADDRESS       CITY STATE OR PROVINCE ZIP OR POSTAL CODE  \\\n",
              "0        4835 Freer St  Rochester                MI              48306   \n",
              "1   1784 Flagstone Cir  Rochester                MI              48307   \n",
              "2  3309 Silverbrook Dr  Rochester                MI              48306   \n",
              "3        406 S MAIN St  Rochester                MI         48307 2031   \n",
              "4        1219 Maple Dr  Rochester                MI              48307   \n",
              "\n",
              "      PRICE  BEDS  BATHS  ... STATUS  NEXT OPEN HOUSE START TIME  \\\n",
              "0  590000.0   3.0    3.5  ...    NaN                         NaN   \n",
              "1  285000.0   2.0    2.0  ...   Sold                         NaN   \n",
              "2  454000.0   2.0    2.5  ...    NaN                         NaN   \n",
              "3  900000.0   NaN    NaN  ...   Sold                         NaN   \n",
              "4  390000.0   3.0    2.0  ...   Sold                         NaN   \n",
              "\n",
              "   NEXT OPEN HOUSE END TIME  \\\n",
              "0                       NaN   \n",
              "1                       NaN   \n",
              "2                       NaN   \n",
              "3                       NaN   \n",
              "4                       NaN   \n",
              "\n",
              "   URL (SEE https://www.redfin.com/buy-a-home/comparative-market-analysis FOR INFO ON PRICING)  \\\n",
              "0  https://www.redfin.com/MI/Rochester/4835-Freer...                                             \n",
              "1  https://www.redfin.com/MI/Rochester/1784-Flags...                                             \n",
              "2  https://www.redfin.com/MI/Rochester/3309-Silve...                                             \n",
              "3  https://www.redfin.com/MI/Rochester/406-S-Main...                                             \n",
              "4  https://www.redfin.com/MI/Rochester/1219-Maple...                                             \n",
              "\n",
              "               SOURCE          MLS#  FAVORITE INTERESTED   LATITUDE  LONGITUDE  \n",
              "0                 NaN           NaN         N          Y  42.727088 -83.154561  \n",
              "1            REALCOMP  5.805016e+10         N          Y  42.684106 -83.096150  \n",
              "2                 NaN           NaN         N          Y  42.728586 -83.202505  \n",
              "3  MiRealSource-MiMLS  6.037199e+07         N          Y  42.680994 -83.133450  \n",
              "4            REALCOMP  5.805017e+10         N          Y  42.690703 -83.125191  \n",
              "\n",
              "[5 rows x 27 columns]"
            ],
            "text/html": [
              "\n",
              "  <div id=\"df-313a6e58-7684-498a-885a-9a785a3bbe4b\" class=\"colab-df-container\">\n",
              "    <div>\n",
              "<style scoped>\n",
              "    .dataframe tbody tr th:only-of-type {\n",
              "        vertical-align: middle;\n",
              "    }\n",
              "\n",
              "    .dataframe tbody tr th {\n",
              "        vertical-align: top;\n",
              "    }\n",
              "\n",
              "    .dataframe thead th {\n",
              "        text-align: right;\n",
              "    }\n",
              "</style>\n",
              "<table border=\"1\" class=\"dataframe\">\n",
              "  <thead>\n",
              "    <tr style=\"text-align: right;\">\n",
              "      <th></th>\n",
              "      <th>SALE TYPE</th>\n",
              "      <th>SOLD DATE</th>\n",
              "      <th>PROPERTY TYPE</th>\n",
              "      <th>ADDRESS</th>\n",
              "      <th>CITY</th>\n",
              "      <th>STATE OR PROVINCE</th>\n",
              "      <th>ZIP OR POSTAL CODE</th>\n",
              "      <th>PRICE</th>\n",
              "      <th>BEDS</th>\n",
              "      <th>BATHS</th>\n",
              "      <th>...</th>\n",
              "      <th>STATUS</th>\n",
              "      <th>NEXT OPEN HOUSE START TIME</th>\n",
              "      <th>NEXT OPEN HOUSE END TIME</th>\n",
              "      <th>URL (SEE https://www.redfin.com/buy-a-home/comparative-market-analysis FOR INFO ON PRICING)</th>\n",
              "      <th>SOURCE</th>\n",
              "      <th>MLS#</th>\n",
              "      <th>FAVORITE</th>\n",
              "      <th>INTERESTED</th>\n",
              "      <th>LATITUDE</th>\n",
              "      <th>LONGITUDE</th>\n",
              "    </tr>\n",
              "  </thead>\n",
              "  <tbody>\n",
              "    <tr>\n",
              "      <th>0</th>\n",
              "      <td>PAST SALE</td>\n",
              "      <td>NaN</td>\n",
              "      <td>Single Family Residential</td>\n",
              "      <td>4835 Freer St</td>\n",
              "      <td>Rochester</td>\n",
              "      <td>MI</td>\n",
              "      <td>48306</td>\n",
              "      <td>590000.0</td>\n",
              "      <td>3.0</td>\n",
              "      <td>3.5</td>\n",
              "      <td>...</td>\n",
              "      <td>NaN</td>\n",
              "      <td>NaN</td>\n",
              "      <td>NaN</td>\n",
              "      <td>https://www.redfin.com/MI/Rochester/4835-Freer...</td>\n",
              "      <td>NaN</td>\n",
              "      <td>NaN</td>\n",
              "      <td>N</td>\n",
              "      <td>Y</td>\n",
              "      <td>42.727088</td>\n",
              "      <td>-83.154561</td>\n",
              "    </tr>\n",
              "    <tr>\n",
              "      <th>1</th>\n",
              "      <td>PAST SALE</td>\n",
              "      <td>January-13-2025</td>\n",
              "      <td>Condo/Co-op</td>\n",
              "      <td>1784 Flagstone Cir</td>\n",
              "      <td>Rochester</td>\n",
              "      <td>MI</td>\n",
              "      <td>48307</td>\n",
              "      <td>285000.0</td>\n",
              "      <td>2.0</td>\n",
              "      <td>2.0</td>\n",
              "      <td>...</td>\n",
              "      <td>Sold</td>\n",
              "      <td>NaN</td>\n",
              "      <td>NaN</td>\n",
              "      <td>https://www.redfin.com/MI/Rochester/1784-Flags...</td>\n",
              "      <td>REALCOMP</td>\n",
              "      <td>5.805016e+10</td>\n",
              "      <td>N</td>\n",
              "      <td>Y</td>\n",
              "      <td>42.684106</td>\n",
              "      <td>-83.096150</td>\n",
              "    </tr>\n",
              "    <tr>\n",
              "      <th>2</th>\n",
              "      <td>PAST SALE</td>\n",
              "      <td>NaN</td>\n",
              "      <td>Condo/Co-op</td>\n",
              "      <td>3309 Silverbrook Dr</td>\n",
              "      <td>Rochester</td>\n",
              "      <td>MI</td>\n",
              "      <td>48306</td>\n",
              "      <td>454000.0</td>\n",
              "      <td>2.0</td>\n",
              "      <td>2.5</td>\n",
              "      <td>...</td>\n",
              "      <td>NaN</td>\n",
              "      <td>NaN</td>\n",
              "      <td>NaN</td>\n",
              "      <td>https://www.redfin.com/MI/Rochester/3309-Silve...</td>\n",
              "      <td>NaN</td>\n",
              "      <td>NaN</td>\n",
              "      <td>N</td>\n",
              "      <td>Y</td>\n",
              "      <td>42.728586</td>\n",
              "      <td>-83.202505</td>\n",
              "    </tr>\n",
              "    <tr>\n",
              "      <th>3</th>\n",
              "      <td>PAST SALE</td>\n",
              "      <td>February-21-2025</td>\n",
              "      <td>Unknown</td>\n",
              "      <td>406 S MAIN St</td>\n",
              "      <td>Rochester</td>\n",
              "      <td>MI</td>\n",
              "      <td>48307 2031</td>\n",
              "      <td>900000.0</td>\n",
              "      <td>NaN</td>\n",
              "      <td>NaN</td>\n",
              "      <td>...</td>\n",
              "      <td>Sold</td>\n",
              "      <td>NaN</td>\n",
              "      <td>NaN</td>\n",
              "      <td>https://www.redfin.com/MI/Rochester/406-S-Main...</td>\n",
              "      <td>MiRealSource-MiMLS</td>\n",
              "      <td>6.037199e+07</td>\n",
              "      <td>N</td>\n",
              "      <td>Y</td>\n",
              "      <td>42.680994</td>\n",
              "      <td>-83.133450</td>\n",
              "    </tr>\n",
              "    <tr>\n",
              "      <th>4</th>\n",
              "      <td>PAST SALE</td>\n",
              "      <td>February-3-2025</td>\n",
              "      <td>Single Family Residential</td>\n",
              "      <td>1219 Maple Dr</td>\n",
              "      <td>Rochester</td>\n",
              "      <td>MI</td>\n",
              "      <td>48307</td>\n",
              "      <td>390000.0</td>\n",
              "      <td>3.0</td>\n",
              "      <td>2.0</td>\n",
              "      <td>...</td>\n",
              "      <td>Sold</td>\n",
              "      <td>NaN</td>\n",
              "      <td>NaN</td>\n",
              "      <td>https://www.redfin.com/MI/Rochester/1219-Maple...</td>\n",
              "      <td>REALCOMP</td>\n",
              "      <td>5.805017e+10</td>\n",
              "      <td>N</td>\n",
              "      <td>Y</td>\n",
              "      <td>42.690703</td>\n",
              "      <td>-83.125191</td>\n",
              "    </tr>\n",
              "  </tbody>\n",
              "</table>\n",
              "<p>5 rows × 27 columns</p>\n",
              "</div>\n",
              "    <div class=\"colab-df-buttons\">\n",
              "      \n",
              "  <div class=\"colab-df-container\">\n",
              "    <button class=\"colab-df-convert\" onclick=\"convertToInteractive('df-313a6e58-7684-498a-885a-9a785a3bbe4b')\"\n",
              "            title=\"Convert this dataframe to an interactive table.\"\n",
              "            style=\"display:none;\">\n",
              "      \n",
              "  <svg xmlns=\"http://www.w3.org/2000/svg\" height=\"24px\" viewBox=\"0 -960 960 960\">\n",
              "    <path d=\"M120-120v-720h720v720H120Zm60-500h600v-160H180v160Zm220 220h160v-160H400v160Zm0 220h160v-160H400v160ZM180-400h160v-160H180v160Zm440 0h160v-160H620v160ZM180-180h160v-160H180v160Zm440 0h160v-160H620v160Z\"/>\n",
              "  </svg>\n",
              "    </button>\n",
              "    \n",
              "  <style>\n",
              "    .colab-df-container {\n",
              "      display:flex;\n",
              "      gap: 12px;\n",
              "    }\n",
              "\n",
              "    .colab-df-convert {\n",
              "      background-color: #E8F0FE;\n",
              "      border: none;\n",
              "      border-radius: 50%;\n",
              "      cursor: pointer;\n",
              "      display: none;\n",
              "      fill: #1967D2;\n",
              "      height: 32px;\n",
              "      padding: 0 0 0 0;\n",
              "      width: 32px;\n",
              "    }\n",
              "\n",
              "    .colab-df-convert:hover {\n",
              "      background-color: #E2EBFA;\n",
              "      box-shadow: 0px 1px 2px rgba(60, 64, 67, 0.3), 0px 1px 3px 1px rgba(60, 64, 67, 0.15);\n",
              "      fill: #174EA6;\n",
              "    }\n",
              "\n",
              "    .colab-df-buttons div {\n",
              "      margin-bottom: 4px;\n",
              "    }\n",
              "\n",
              "    [theme=dark] .colab-df-convert {\n",
              "      background-color: #3B4455;\n",
              "      fill: #D2E3FC;\n",
              "    }\n",
              "\n",
              "    [theme=dark] .colab-df-convert:hover {\n",
              "      background-color: #434B5C;\n",
              "      box-shadow: 0px 1px 3px 1px rgba(0, 0, 0, 0.15);\n",
              "      filter: drop-shadow(0px 1px 2px rgba(0, 0, 0, 0.3));\n",
              "      fill: #FFFFFF;\n",
              "    }\n",
              "  </style>\n",
              "\n",
              "    <script>\n",
              "      const buttonEl =\n",
              "        document.querySelector('#df-313a6e58-7684-498a-885a-9a785a3bbe4b button.colab-df-convert');\n",
              "      buttonEl.style.display =\n",
              "        google.colab.kernel.accessAllowed ? 'block' : 'none';\n",
              "\n",
              "      async function convertToInteractive(key) {\n",
              "        const element = document.querySelector('#df-313a6e58-7684-498a-885a-9a785a3bbe4b');\n",
              "        const dataTable =\n",
              "          await google.colab.kernel.invokeFunction('convertToInteractive',\n",
              "                                                    [key], {});\n",
              "        if (!dataTable) return;\n",
              "\n",
              "        const docLinkHtml = 'Like what you see? Visit the ' +\n",
              "          '<a target=\"_blank\" href=https://colab.research.google.com/notebooks/data_table.ipynb>data table notebook</a>'\n",
              "          + ' to learn more about interactive tables.';\n",
              "        element.innerHTML = '';\n",
              "        dataTable['output_type'] = 'display_data';\n",
              "        await google.colab.output.renderOutput(dataTable, element);\n",
              "        const docLink = document.createElement('div');\n",
              "        docLink.innerHTML = docLinkHtml;\n",
              "        element.appendChild(docLink);\n",
              "      }\n",
              "    </script>\n",
              "  </div>\n",
              "  \n",
              "    </div>\n",
              "  </div>\n",
              "  "
            ]
          },
          "metadata": {},
          "execution_count": 4
        }
      ]
    },
    {
      "cell_type": "code",
      "source": [
        "df.info()"
      ],
      "metadata": {
        "colab": {
          "base_uri": "https://localhost:8080/"
        },
        "id": "-OOcK_wamfCG",
        "outputId": "1b529820-ab37-4b00-fbff-acdf55c0f00b"
      },
      "execution_count": 5,
      "outputs": [
        {
          "output_type": "stream",
          "name": "stdout",
          "text": [
            "<class 'pandas.core.frame.DataFrame'>\n",
            "RangeIndex: 17974 entries, 0 to 17973\n",
            "Data columns (total 27 columns):\n",
            " #   Column                                                                                       Non-Null Count  Dtype  \n",
            "---  ------                                                                                       --------------  -----  \n",
            " 0   SALE TYPE                                                                                    17974 non-null  object \n",
            " 1   SOLD DATE                                                                                    15736 non-null  object \n",
            " 2   PROPERTY TYPE                                                                                17974 non-null  object \n",
            " 3   ADDRESS                                                                                      17895 non-null  object \n",
            " 4   CITY                                                                                         17903 non-null  object \n",
            " 5   STATE OR PROVINCE                                                                            17974 non-null  object \n",
            " 6   ZIP OR POSTAL CODE                                                                           17918 non-null  object \n",
            " 7   PRICE                                                                                        17973 non-null  float64\n",
            " 8   BEDS                                                                                         16936 non-null  float64\n",
            " 9   BATHS                                                                                        17077 non-null  float64\n",
            " 10  LOCATION                                                                                     15728 non-null  object \n",
            " 11  SQUARE FEET                                                                                  17176 non-null  float64\n",
            " 12  LOT SIZE                                                                                     14069 non-null  float64\n",
            " 13  YEAR BUILT                                                                                   17108 non-null  float64\n",
            " 14  DAYS ON MARKET                                                                               0 non-null      float64\n",
            " 15  $/SQUARE FEET                                                                                17174 non-null  float64\n",
            " 16  HOA/MONTH                                                                                    7134 non-null   float64\n",
            " 17  STATUS                                                                                       15736 non-null  object \n",
            " 18  NEXT OPEN HOUSE START TIME                                                                   0 non-null      float64\n",
            " 19  NEXT OPEN HOUSE END TIME                                                                     0 non-null      float64\n",
            " 20  URL (SEE https://www.redfin.com/buy-a-home/comparative-market-analysis FOR INFO ON PRICING)  17974 non-null  object \n",
            " 21  SOURCE                                                                                       15736 non-null  object \n",
            " 22  MLS#                                                                                         15736 non-null  float64\n",
            " 23  FAVORITE                                                                                     17974 non-null  object \n",
            " 24  INTERESTED                                                                                   17974 non-null  object \n",
            " 25  LATITUDE                                                                                     17974 non-null  float64\n",
            " 26  LONGITUDE                                                                                    17974 non-null  float64\n",
            "dtypes: float64(14), object(13)\n",
            "memory usage: 3.7+ MB\n"
          ]
        }
      ]
    },
    {
      "cell_type": "code",
      "source": [
        "## DROP COLUMNS\n",
        "# Columns in df\n",
        "existing_columns = df.columns\n",
        "# Columns to drop\n",
        "columns_to_drop = [col for col in [\n",
        "    'SALE TYPE',\n",
        "    'STATE OR PROVINCE',\n",
        "    'DAYS ON MARKET',\n",
        "    'STATUS',\n",
        "    'NEXT OPEN HOUSE START TIME',\n",
        "    'NEXT OPEN HOUSE END TIME',\n",
        "    'URL (SEE https://www.redfin.com/buy-a-home/comparative-market-analysis FOR INFO ON PRICING)',\n",
        "    'SOURCE',\n",
        "    'MLS#',\n",
        "    '$/SQUARE FEET',\n",
        "    'FAVORITE',\n",
        "    'INTERESTED'\n",
        "] if col in existing_columns]\n"
      ],
      "metadata": {
        "id": "24bBA38hiqoO"
      },
      "execution_count": 6,
      "outputs": []
    },
    {
      "cell_type": "code",
      "source": [
        "# Drop the columns\n",
        "df = df.drop(columns=columns_to_drop)"
      ],
      "metadata": {
        "id": "dRkeEm8Enm8B"
      },
      "execution_count": 7,
      "outputs": []
    },
    {
      "cell_type": "code",
      "source": [
        "df.info()"
      ],
      "metadata": {
        "colab": {
          "base_uri": "https://localhost:8080/"
        },
        "id": "f597W6EUmZ1S",
        "outputId": "98ce5738-417b-43e7-ec07-0281b88c9e37"
      },
      "execution_count": 8,
      "outputs": [
        {
          "output_type": "stream",
          "name": "stdout",
          "text": [
            "<class 'pandas.core.frame.DataFrame'>\n",
            "RangeIndex: 17974 entries, 0 to 17973\n",
            "Data columns (total 15 columns):\n",
            " #   Column              Non-Null Count  Dtype  \n",
            "---  ------              --------------  -----  \n",
            " 0   SOLD DATE           15736 non-null  object \n",
            " 1   PROPERTY TYPE       17974 non-null  object \n",
            " 2   ADDRESS             17895 non-null  object \n",
            " 3   CITY                17903 non-null  object \n",
            " 4   ZIP OR POSTAL CODE  17918 non-null  object \n",
            " 5   PRICE               17973 non-null  float64\n",
            " 6   BEDS                16936 non-null  float64\n",
            " 7   BATHS               17077 non-null  float64\n",
            " 8   LOCATION            15728 non-null  object \n",
            " 9   SQUARE FEET         17176 non-null  float64\n",
            " 10  LOT SIZE            14069 non-null  float64\n",
            " 11  YEAR BUILT          17108 non-null  float64\n",
            " 12  HOA/MONTH           7134 non-null   float64\n",
            " 13  LATITUDE            17974 non-null  float64\n",
            " 14  LONGITUDE           17974 non-null  float64\n",
            "dtypes: float64(9), object(6)\n",
            "memory usage: 2.1+ MB\n"
          ]
        }
      ]
    },
    {
      "cell_type": "code",
      "source": [
        "df['PROPERTY TYPE'].unique()\n"
      ],
      "metadata": {
        "colab": {
          "base_uri": "https://localhost:8080/"
        },
        "id": "_upttnEUp2kt",
        "outputId": "05068308-3664-4ba0-ffb8-169e07d13e86"
      },
      "execution_count": 9,
      "outputs": [
        {
          "output_type": "execute_result",
          "data": {
            "text/plain": [
              "array(['Single Family Residential', 'Condo/Co-op', 'Unknown',\n",
              "       'Multi-Family (2-4 Unit)', 'Vacant Land',\n",
              "       'Mobile/Manufactured Home', 'Multi-Family (5+ Unit)', 'Other',\n",
              "       'Townhouse', 'Parking', 'Ranch'], dtype=object)"
            ]
          },
          "metadata": {},
          "execution_count": 9
        }
      ]
    },
    {
      "cell_type": "code",
      "source": [
        "df['CITY'].unique()"
      ],
      "metadata": {
        "colab": {
          "base_uri": "https://localhost:8080/"
        },
        "id": "zPyUekf4qO7q",
        "outputId": "0e67a67f-ae92-4460-fcf5-bb94bc828255"
      },
      "execution_count": 10,
      "outputs": [
        {
          "output_type": "execute_result",
          "data": {
            "text/plain": [
              "array(['Rochester', 'Oaklandchartertownship_oakland', 'Oakland Twp',\n",
              "       'Rochestercity_oakland', 'Rochester Hills', 'Washington Twp',\n",
              "       'Oakland', 'Orion Twp', 'Hazel Park', 'Milford', 'Pontiac',\n",
              "       'Davisburg', 'Ferndale', 'Southfield', 'Keego Harbor', 'Oxford',\n",
              "       'Waterford', 'Novi', 'Oak Park', 'West Bloomfield',\n",
              "       'White Lake Twp', 'Lake Orion', 'Independence Twp', 'Holly Twp',\n",
              "       'West Bloomfield Twp', 'Metamora Twp', 'Bloomfield Twp', 'Wixom',\n",
              "       'Madison Heights', 'Leonard', 'Addisontownship_oakland',\n",
              "       'Waterford Twp', 'Rose Twp', 'White Lake', 'Royal Oak',\n",
              "       'Clarkston', 'Royal Oak Twp', 'Farmington Hills', 'Auburn Hills',\n",
              "       'Walled Lake', 'Whitelakechartertownship_oakland', 'Holly',\n",
              "       'Highland Twp', 'Oxford Twp', 'Brandon Twp', 'South Lyon',\n",
              "       'Oxford Vlg', 'Lake Orion Vlg', 'Pontiaccity_oakland',\n",
              "       'Springfield Twp', 'Groveland Twp', 'Ortonville',\n",
              "       'Lathrup Village', nan, 'Bloomfield Hills', 'Northville',\n",
              "       'Grand Blanc', 'Highland', 'Farmington', 'Sylvan Lake',\n",
              "       'Commerce Township', 'Warren', 'Addison Twp', 'Commerce', 'Troy',\n",
              "       'Commerce Twp', 'New Hudson', 'Lyon Twp', 'Hazelparkcity_oakland',\n",
              "       'Holly Vlg', 'Southfieldcity_oakland', 'Wixomcity_oakland',\n",
              "       'Clawson', 'Birmingham', 'Green Oak Twp', 'Orchard Lake Village',\n",
              "       'Royaloakcity_oakland', 'Village Of Clarkston',\n",
              "       'Farmingtonhillscity_oakland', 'Milford Twp', 'Berkley',\n",
              "       'Clawsoncity_oakland', 'Milford Vlg', 'Madisonheightscity_oakland',\n",
              "       'Hadley Twp', 'Ferndalecity_oakland', 'Wolverine Lake Vlg',\n",
              "       'Orionchartertownship_oakland', 'Novicity_oakland',\n",
              "       'Southlyoncity_oakland', 'Auburnhillscity_oakland',\n",
              "       'Beverly Hills', 'Ortonville Vlg',\n",
              "       'Waterfordchartertownship_oakland', 'Walledlakecity_oakland',\n",
              "       'Oxfordvillage_oakland', 'Lakeorionvillage_oakland',\n",
              "       'Northvillecity_oakland', 'Springfieldchartertownship_oakland',\n",
              "       'Wolverine Lake', 'Leonard Vlg', 'Lake Angelus',\n",
              "       'Oakparkcity_oakland', 'Southfield Twp', 'Salem Twp', 'Fenton',\n",
              "       'Beverly Hills Vlg', 'Commercechartertownship_oakland',\n",
              "       'Hollytownship_oakland', 'Pleasant Ridge',\n",
              "       'Birminghamcity_oakland', 'Keegoharborcity_oakland', 'Shelby Twp',\n",
              "       'Hollyvillage_oakland', 'Bloomfieldchartertownship_oakland',\n",
              "       'Rochesterhillscity_oakland',\n",
              "       'Westbloomfieldchartertownship_oakland', 'Huntington Woods',\n",
              "       'Troycity_oakland', 'Farmingtoncity_oakland',\n",
              "       'Leonardvillage_oakland', 'Lyonchartertownship_oakland',\n",
              "       'Independencechartertownship_oakland',\n",
              "       'Oxfordchartertownship_oakland', 'Villageofclarkstoncity_oakland',\n",
              "       'Franklin Vlg', 'Lathrupvillagecity_oakland',\n",
              "       'Berkleycity_oakland', 'Highlandchartertownship_oakland',\n",
              "       'Shelby Township', 'Bloomfieldhillscity_oakland',\n",
              "       'Bloomfield Village', 'Beverlyhillsvillage_oakland', 'Livonia',\n",
              "       'Milfordvillage_oakland', 'Rosetownship_oakland', 'Orchard Lake',\n",
              "       'Huntingtonwoodscity_oakland', 'Milfordchartertownship_oakland',\n",
              "       'Plymouth', 'Bingham Farms', 'Bingham Farms Vlg', 'Franklin',\n",
              "       'Northvillecity_wayne', 'Ortonvillevillage_oakland', 'Novi Twp',\n",
              "       'Northville Twp', 'Sterling Heights', 'Bloomfield', 'Utica',\n",
              "       'Update', 'Acme Twp', 'Brandonchartertownship_oakland',\n",
              "       'Bloomfield Township', 'Pleasantridgecity_oakland',\n",
              "       'Grovelandtownship_oakland', 'Harsens Island',\n",
              "       'Franklinvillage_oakland'], dtype=object)"
            ]
          },
          "metadata": {},
          "execution_count": 10
        }
      ]
    },
    {
      "cell_type": "code",
      "source": [
        "df['ZIP OR POSTAL CODE'].unique()"
      ],
      "metadata": {
        "colab": {
          "base_uri": "https://localhost:8080/"
        },
        "id": "gQ2eFkk4qVn3",
        "outputId": "45c80d9c-53c0-4dfc-bfb7-f7b78d71d594"
      },
      "execution_count": 11,
      "outputs": [
        {
          "output_type": "execute_result",
          "data": {
            "text/plain": [
              "array(['48306', '48307', '48307 2031', ..., '48073 6510', '48025 1288',\n",
              "       '48302 0720'], shape=(2067,), dtype=object)"
            ]
          },
          "metadata": {},
          "execution_count": 11
        }
      ]
    },
    {
      "cell_type": "code",
      "source": [
        "# Remove non-residential property types\n",
        "df = df[~df['PROPERTY TYPE'].isin(['Parking', 'Vacant Land', 'Unknown', 'Other', 'Multi-Family (2-4 Unit)', 'Multi-Family (5+ Unit)'])]\n",
        "# Remove empty CITY\n",
        "df = df[df['CITY'].notna() & (df['CITY'].str.strip() != '')]\n",
        "# Remove empty PRICE\n",
        "df = df[df['PRICE'].notna()]\n",
        "# Trim ZIP CODE\n",
        "df['ZIP OR POSTAL CODE'] = df['ZIP OR POSTAL CODE'].astype(str)\n",
        "df['ZIP OR POSTAL CODE'] = df['ZIP OR POSTAL CODE'].str[:5]"
      ],
      "metadata": {
        "id": "1U4viLb9V0eI"
      },
      "execution_count": 12,
      "outputs": []
    },
    {
      "cell_type": "code",
      "source": [
        "df['ZIP OR POSTAL CODE'].unique()"
      ],
      "metadata": {
        "colab": {
          "base_uri": "https://localhost:8080/"
        },
        "id": "HfLqUYyqqgL3",
        "outputId": "e5ba4463-ede1-4513-a33a-c1b8b05cfd28"
      },
      "execution_count": 13,
      "outputs": [
        {
          "output_type": "execute_result",
          "data": {
            "text/plain": [
              "array(['48306', '48307', '48363', '48030', '48341', '48340', '48075',\n",
              "       '48342', '48328', '48375', '48237', '48323', '48386', '48362',\n",
              "       '48393', '48033', '48442', '48076', '48302', '48383', '48073',\n",
              "       '48220', '48071', '48371', '43877', '48326', '48377', '48348',\n",
              "       '48359', '48336', '48350', '48309', '48304', '48324', '48380',\n",
              "       '48320', '48382', '48329', '48091', '48356', '48178', '48327',\n",
              "       '48083', '48165', '48346', '48334', '48085', '48067', '48374',\n",
              "       '48331', '48462', '48370', '48009', '48322', '48167', '48034',\n",
              "       '48390', '48367', '48335', '48357', '48360', '48072', '48017',\n",
              "       '48084', '48301', '48092', '48381', '48025', '48238', '48430',\n",
              "       '48439', '48539', '48098', '48069', '48317', '48070', '48836',\n",
              "       '48316', '48332', '48152', '48305', '48314', '48438', '48028'],\n",
              "      dtype=object)"
            ]
          },
          "metadata": {},
          "execution_count": 13
        }
      ]
    },
    {
      "cell_type": "code",
      "source": [
        "# SOLD DATE IMPUTATION\n",
        "# Convert Sold Date to datetime\n",
        "df['SOLD DATE'] = pd.to_datetime(df['SOLD DATE'], errors='coerce')\n",
        "\n",
        "# Step 1: Fill missing SOLD DATE with mode within each ZIP code group\n",
        "df['SOLD DATE'] = df.groupby('ZIP OR POSTAL CODE')['SOLD DATE'].transform(\n",
        "    lambda x: x.fillna(x.mode()[0]) if not x.mode().empty else x\n",
        ")\n",
        "# Step 2: Fill any remaining missing values with the overall mode\n",
        "overall_mode = df['SOLD DATE'].mode()[0]\n",
        "df['SOLD DATE'].fillna(overall_mode, inplace=True)"
      ],
      "metadata": {
        "collapsed": true,
        "id": "L9wKgz1oOIx5",
        "colab": {
          "base_uri": "https://localhost:8080/"
        },
        "outputId": "a6428c89-bf2e-4c3c-ddbe-974008a021a9"
      },
      "execution_count": 14,
      "outputs": [
        {
          "output_type": "stream",
          "name": "stderr",
          "text": [
            "<ipython-input-14-76348e88c706>:11: FutureWarning: A value is trying to be set on a copy of a DataFrame or Series through chained assignment using an inplace method.\n",
            "The behavior will change in pandas 3.0. This inplace method will never work because the intermediate object on which we are setting values always behaves as a copy.\n",
            "\n",
            "For example, when doing 'df[col].method(value, inplace=True)', try using 'df.method({col: value}, inplace=True)' or df[col] = df[col].method(value) instead, to perform the operation inplace on the original object.\n",
            "\n",
            "\n",
            "  df['SOLD DATE'].fillna(overall_mode, inplace=True)\n"
          ]
        }
      ]
    },
    {
      "cell_type": "code",
      "source": [
        "## HOA IMPUTATION\n",
        "# Fill HOA missing values based on PROPERTY TYPE and ZIP (if Property Type typically has low HOA, then 0)\n",
        "df['HOA/MONTH'] = df.groupby(['ZIP OR POSTAL CODE','PROPERTY TYPE'])['HOA/MONTH'].transform(\n",
        "    lambda x: x.fillna(0 if x.median() < 10 else x.median())\n",
        ")\n",
        "# Fill NaN with zerodf\n",
        "df['HOA/MONTH'] = df.groupby('PROPERTY TYPE')['HOA/MONTH'].transform(\n",
        "    lambda x: x.fillna(x.median())\n",
        ")"
      ],
      "metadata": {
        "id": "twGHewdpQYRq"
      },
      "execution_count": 15,
      "outputs": []
    },
    {
      "cell_type": "code",
      "source": [
        "## LOT SIZE IMPUTATION\n",
        "# Step 1: ZIP + Property Type Median\n",
        "df['LOT SIZE'] = df.groupby(['ZIP OR POSTAL CODE', 'PROPERTY TYPE'])['LOT SIZE'].transform(\n",
        "    lambda x: x.fillna(x.median())\n",
        ")\n",
        "# Step 2: Property Type Median\n",
        "df['LOT SIZE'] = df.groupby('PROPERTY TYPE')['LOT SIZE'].transform(\n",
        "    lambda x: x.fillna(x.median())\n",
        ")\n",
        "# Step 3: Overall Median\n",
        "df['LOT SIZE'].fillna(df['LOT SIZE'].median(), inplace=True)"
      ],
      "metadata": {
        "id": "yMRBFM7zRX8P",
        "colab": {
          "base_uri": "https://localhost:8080/"
        },
        "outputId": "a51c8d8c-6530-4131-939e-a2b92e6a0662"
      },
      "execution_count": 16,
      "outputs": [
        {
          "output_type": "stream",
          "name": "stderr",
          "text": [
            "<ipython-input-16-405b27a3b312>:11: FutureWarning: A value is trying to be set on a copy of a DataFrame or Series through chained assignment using an inplace method.\n",
            "The behavior will change in pandas 3.0. This inplace method will never work because the intermediate object on which we are setting values always behaves as a copy.\n",
            "\n",
            "For example, when doing 'df[col].method(value, inplace=True)', try using 'df.method({col: value}, inplace=True)' or df[col] = df[col].method(value) instead, to perform the operation inplace on the original object.\n",
            "\n",
            "\n",
            "  df['LOT SIZE'].fillna(df['LOT SIZE'].median(), inplace=True)\n"
          ]
        }
      ]
    },
    {
      "cell_type": "code",
      "source": [
        "## BEDS IMPUTATION\n",
        "# Step 0: Replace values < 1 with NaN\n",
        "df['BEDS'] = df['BEDS'].apply(lambda x: np.nan if x < 1 else x)\n",
        "# Step 1: ZIP + Property Type Median\n",
        "df['BEDS'] = df.groupby(['ZIP OR POSTAL CODE', 'PROPERTY TYPE'])['BEDS'].transform(\n",
        "    lambda x: x.fillna(x.median())\n",
        ")\n",
        "# Step 2: Property Type Median\n",
        "df['BEDS'] = df.groupby('PROPERTY TYPE')['BEDS'].transform(\n",
        "    lambda x: x.fillna(x.median())\n",
        ")\n",
        "# Step 3: Overall Median\n",
        "df['BEDS'].fillna(df['BEDS'].median(), inplace=True)"
      ],
      "metadata": {
        "id": "fiHkoTr8R0c_",
        "colab": {
          "base_uri": "https://localhost:8080/"
        },
        "outputId": "302ea739-b11a-4018-f35f-374cd0c6318f"
      },
      "execution_count": 17,
      "outputs": [
        {
          "output_type": "stream",
          "name": "stderr",
          "text": [
            "<ipython-input-17-0058091d74a3>:13: FutureWarning: A value is trying to be set on a copy of a DataFrame or Series through chained assignment using an inplace method.\n",
            "The behavior will change in pandas 3.0. This inplace method will never work because the intermediate object on which we are setting values always behaves as a copy.\n",
            "\n",
            "For example, when doing 'df[col].method(value, inplace=True)', try using 'df.method({col: value}, inplace=True)' or df[col] = df[col].method(value) instead, to perform the operation inplace on the original object.\n",
            "\n",
            "\n",
            "  df['BEDS'].fillna(df['BEDS'].median(), inplace=True)\n"
          ]
        }
      ]
    },
    {
      "cell_type": "code",
      "source": [
        "## BATHROOMS IMPUTATION\n",
        "# Step 0: Replace values < 1 with NaN\n",
        "df['BATHS'] = df['BATHS'].apply(lambda x: np.nan if x < 1 else x)\n",
        "# Step 1: ZIP + Property Type Median\n",
        "df['BATHS'] = df.groupby(['ZIP OR POSTAL CODE', 'PROPERTY TYPE'])['BATHS'].transform(\n",
        "    lambda x: x.fillna(x.median())\n",
        ")\n",
        "# Step 2: Property Type Median\n",
        "df['BATHS'] = df.groupby('PROPERTY TYPE')['BATHS'].transform(\n",
        "    lambda x: x.fillna(x.median())\n",
        ")\n",
        "# Step 3: Overall Median\n",
        "df['BATHS'].fillna(df['BATHS'].median(), inplace=True)"
      ],
      "metadata": {
        "id": "n9vLiaz-SM9e",
        "colab": {
          "base_uri": "https://localhost:8080/"
        },
        "outputId": "c1b871e5-8d18-4cd6-be7f-e197e3cc4c00"
      },
      "execution_count": 18,
      "outputs": [
        {
          "output_type": "stream",
          "name": "stderr",
          "text": [
            "<ipython-input-18-73e23f105091>:13: FutureWarning: A value is trying to be set on a copy of a DataFrame or Series through chained assignment using an inplace method.\n",
            "The behavior will change in pandas 3.0. This inplace method will never work because the intermediate object on which we are setting values always behaves as a copy.\n",
            "\n",
            "For example, when doing 'df[col].method(value, inplace=True)', try using 'df.method({col: value}, inplace=True)' or df[col] = df[col].method(value) instead, to perform the operation inplace on the original object.\n",
            "\n",
            "\n",
            "  df['BATHS'].fillna(df['BATHS'].median(), inplace=True)\n"
          ]
        }
      ]
    },
    {
      "cell_type": "code",
      "source": [
        "## SQUARE FOOTAGE IMPUTATION\n",
        "# Step 0: Replace values < 1 with NaN\n",
        "df['SQUARE FEET'] = df['SQUARE FEET'].apply(lambda x: np.nan if x < 100 else x)\n",
        "# Step 1: ZIP + Property Type Median\n",
        "df['SQUARE FEET'] = df.groupby(['ZIP OR POSTAL CODE', 'PROPERTY TYPE'])['SQUARE FEET'].transform(\n",
        "    lambda x: x.fillna(x.median())\n",
        ")\n",
        "# Step 2: Property Type Median\n",
        "df['SQUARE FEET'] = df.groupby('PROPERTY TYPE')['SQUARE FEET'].transform(\n",
        "    lambda x: x.fillna(x.median())\n",
        ")\n",
        "# Step 3: Overall Median\n",
        "df['SQUARE FEET'].fillna(df['SQUARE FEET'].median(), inplace=True)"
      ],
      "metadata": {
        "id": "2f5G3jRPdnOH",
        "colab": {
          "base_uri": "https://localhost:8080/"
        },
        "outputId": "5880b5b4-e7bd-4936-ea38-4d9e83f11f06"
      },
      "execution_count": 19,
      "outputs": [
        {
          "output_type": "stream",
          "name": "stderr",
          "text": [
            "<ipython-input-19-3f96f55ccf2f>:13: FutureWarning: A value is trying to be set on a copy of a DataFrame or Series through chained assignment using an inplace method.\n",
            "The behavior will change in pandas 3.0. This inplace method will never work because the intermediate object on which we are setting values always behaves as a copy.\n",
            "\n",
            "For example, when doing 'df[col].method(value, inplace=True)', try using 'df.method({col: value}, inplace=True)' or df[col] = df[col].method(value) instead, to perform the operation inplace on the original object.\n",
            "\n",
            "\n",
            "  df['SQUARE FEET'].fillna(df['SQUARE FEET'].median(), inplace=True)\n"
          ]
        }
      ]
    },
    {
      "cell_type": "code",
      "source": [
        "## YEAR BUILT IMPUTATION\n",
        "# Step 1: Step 1: ZIP + Property Type Median\n",
        "df['YEAR BUILT'] = df.groupby(['ZIP OR POSTAL CODE', 'PROPERTY TYPE'])['YEAR BUILT'].transform(\n",
        "    lambda x: x.fillna(x.median())\n",
        ")\n",
        "# Step 2: Property Type Median\n",
        "df['YEAR BUILT'] = df.groupby('PROPERTY TYPE')['YEAR BUILT'].transform(\n",
        "    lambda x: x.fillna(x.median())\n",
        ")\n",
        "# Step 3: Overall Median\n",
        "df['YEAR BUILT'].fillna(df['YEAR BUILT'].median(), inplace=True)\n"
      ],
      "metadata": {
        "id": "lVfy-lmGd5Iv",
        "colab": {
          "base_uri": "https://localhost:8080/"
        },
        "outputId": "cf395a42-d882-4d23-a2a4-89c60ec1040b"
      },
      "execution_count": 20,
      "outputs": [
        {
          "output_type": "stream",
          "name": "stderr",
          "text": [
            "<ipython-input-20-558f66249c9f>:11: FutureWarning: A value is trying to be set on a copy of a DataFrame or Series through chained assignment using an inplace method.\n",
            "The behavior will change in pandas 3.0. This inplace method will never work because the intermediate object on which we are setting values always behaves as a copy.\n",
            "\n",
            "For example, when doing 'df[col].method(value, inplace=True)', try using 'df.method({col: value}, inplace=True)' or df[col] = df[col].method(value) instead, to perform the operation inplace on the original object.\n",
            "\n",
            "\n",
            "  df['YEAR BUILT'].fillna(df['YEAR BUILT'].median(), inplace=True)\n"
          ]
        }
      ]
    },
    {
      "cell_type": "code",
      "source": [
        "## Feature creation\n",
        "# Price Per Square Foot\n",
        "PricePerSqFt = df['PRICE']/df['SQUARE FEET']\n",
        "df['PricePerSqFt'] = PricePerSqFt\n",
        "# HomeAge (years)\n",
        "HomeAge =  df['SOLD DATE'].dt.year - df['YEAR BUILT']\n",
        "df['HomeAge'] = HomeAge\n",
        "# Sale Month\n",
        "df['SaleMonth'] = df['SOLD DATE'].dt.month\n",
        "# Sale Qtr\n",
        "df['SaleQtr'] = df['SOLD DATE'].dt.quarter\n",
        "# Has HOA\n",
        "df['HasHOA'] = df['HOA/MONTH'].apply(lambda x: 1 if x > 0 else 0)\n",
        "# Lot to Home Ratio\n",
        "LotToHomeRatio = df['LOT SIZE']/df['SQUARE FEET']\n",
        "df['LotToHomeRatio'] = LotToHomeRatio\n",
        "# Price Per Bedroom\n",
        "PricePerBedroom = df['PRICE']/df['BEDS']\n",
        "df['PricePerBedroom'] = PricePerBedroom\n",
        "# Price Per Bathroom\n",
        "PricePerBathroom = df['PRICE']/df['BATHS']\n",
        "df['PricePerBathroom'] = PricePerBathroom\n",
        "# Bed to Bath Ratio\n",
        "BedToBathRatio = df['BEDS']/df['BATHS']\n",
        "df['BedToBathRatio'] = BedToBathRatio\n",
        "# Bed x Bath\n",
        "df['BedBathProduct'] = df['BEDS'] * df['BATHS']\n",
        "# Luxury Home IndicatorDefine feature-based luxury criteria\n",
        "sf_thresh = 3500\n",
        "bath_thresh = 3.5\n",
        "hoa_thresh = 250\n",
        "\n",
        "df['IsLuxury'] = df.apply(\n",
        "    lambda row: 1 if (\n",
        "        row['SQUARE FEET'] >= sf_thresh and\n",
        "        row['BATHS'] >= bath_thresh and\n",
        "        row['HOA/MONTH'] >= hoa_thresh\n",
        "    ) else 0,\n",
        "    axis=1\n",
        ")\n",
        "# ZIP and CITY Median Price per sq ft\n",
        "df['ZIP_PPSF_MEDIAN'] = df.groupby('ZIP OR POSTAL CODE')['PricePerSqFt'].transform('median')\n",
        "df['CITY_PPSF_MEDIAN'] = df.groupby('CITY')['PricePerSqFt'].transform('median')\n"
      ],
      "metadata": {
        "id": "O1_YMv4Pe7tF"
      },
      "execution_count": 21,
      "outputs": []
    },
    {
      "cell_type": "code",
      "source": [
        "# KNN Neighbor to include average PricePerSqFt for five nearest homes\n",
        "# 1. Coordinates and target\n",
        "coords = df[['LATITUDE', 'LONGITUDE']]\n",
        "target = df['PricePerSqFt']\n",
        "\n",
        "# 2. Fit the KNN model\n",
        "k = 5\n",
        "knn = NearestNeighbors(n_neighbors=k + 1)  # +1 to include self\n",
        "knn.fit(coords)\n",
        "\n",
        "# 3. Find nearest neighbors for each property\n",
        "distances, indices = knn.kneighbors(coords)\n",
        "\n",
        "# 4. Compute the average PPSF of the k nearest neighbors (excluding self)\n",
        "avg_ppsf_neighbors = []\n",
        "for row in indices:\n",
        "    neighbor_indices = row[1:]  # skip index 0 (it's the point itself)\n",
        "    avg_price = target.iloc[neighbor_indices].mean()\n",
        "    avg_ppsf_neighbors.append(avg_price)\n",
        "\n",
        "# 5. Add as new feature\n",
        "df['AvgPPSF_KNN'] = avg_ppsf_neighbors"
      ],
      "metadata": {
        "id": "0JpedrIEUTRK"
      },
      "execution_count": 22,
      "outputs": []
    },
    {
      "cell_type": "code",
      "source": [
        "# Remove Outliers\n",
        "df = df[(df['PricePerSqFt'] > 50) & (df['PricePerSqFt'] < 500)]"
      ],
      "metadata": {
        "id": "LrmHuXEOAtpF"
      },
      "execution_count": 23,
      "outputs": []
    },
    {
      "cell_type": "code",
      "source": [
        "# Frequency Encoding variables\n",
        "df['CITY_ENCODED'] = df['CITY'].map(df['CITY'].value_counts())\n",
        "df['ZIP_ENCODED'] = df['ZIP OR POSTAL CODE'].map(df['ZIP OR POSTAL CODE'].value_counts())\n",
        "df['PROPERTY_TYPE_ENCODED'] = df['PROPERTY TYPE'].map(df['PROPERTY TYPE'].value_counts())"
      ],
      "metadata": {
        "id": "IFARanlIAru8"
      },
      "execution_count": 24,
      "outputs": []
    },
    {
      "cell_type": "code",
      "source": [
        "# Download the CSV file\n",
        "df.to_csv('cleaned_real_estate_data.csv', index=False)\n",
        "files.download('cleaned_real_estate_data.csv')"
      ],
      "metadata": {
        "id": "-h9CFKpJfnIa",
        "colab": {
          "base_uri": "https://localhost:8080/",
          "height": 17
        },
        "outputId": "a7b9f537-cb33-4fb4-cc8e-2dc18d1cc05b"
      },
      "execution_count": 25,
      "outputs": [
        {
          "output_type": "display_data",
          "data": {
            "text/plain": [
              "<IPython.core.display.Javascript object>"
            ],
            "application/javascript": [
              "\n",
              "    async function download(id, filename, size) {\n",
              "      if (!google.colab.kernel.accessAllowed) {\n",
              "        return;\n",
              "      }\n",
              "      const div = document.createElement('div');\n",
              "      const label = document.createElement('label');\n",
              "      label.textContent = `Downloading \"${filename}\": `;\n",
              "      div.appendChild(label);\n",
              "      const progress = document.createElement('progress');\n",
              "      progress.max = size;\n",
              "      div.appendChild(progress);\n",
              "      document.body.appendChild(div);\n",
              "\n",
              "      const buffers = [];\n",
              "      let downloaded = 0;\n",
              "\n",
              "      const channel = await google.colab.kernel.comms.open(id);\n",
              "      // Send a message to notify the kernel that we're ready.\n",
              "      channel.send({})\n",
              "\n",
              "      for await (const message of channel.messages) {\n",
              "        // Send a message to notify the kernel that we're ready.\n",
              "        channel.send({})\n",
              "        if (message.buffers) {\n",
              "          for (const buffer of message.buffers) {\n",
              "            buffers.push(buffer);\n",
              "            downloaded += buffer.byteLength;\n",
              "            progress.value = downloaded;\n",
              "          }\n",
              "        }\n",
              "      }\n",
              "      const blob = new Blob(buffers, {type: 'application/binary'});\n",
              "      const a = document.createElement('a');\n",
              "      a.href = window.URL.createObjectURL(blob);\n",
              "      a.download = filename;\n",
              "      div.appendChild(a);\n",
              "      a.click();\n",
              "      div.remove();\n",
              "    }\n",
              "  "
            ]
          },
          "metadata": {}
        },
        {
          "output_type": "display_data",
          "data": {
            "text/plain": [
              "<IPython.core.display.Javascript object>"
            ],
            "application/javascript": [
              "download(\"download_742ffdda-4030-4b80-9a40-ba7be22b0d53\", \"cleaned_real_estate_data.csv\", 5084038)"
            ]
          },
          "metadata": {}
        }
      ]
    },
    {
      "cell_type": "markdown",
      "source": [
        "# **Models:**\n",
        "*   *Log transform PricePerSqFt dependent variable*\n",
        "*   *Define Dependent variables / features*\n",
        "*   *Define Hyperparameters (XGBoost Model)*\n",
        "1.   Random Forest Model\n",
        "2.   XGBoost Model\n",
        "\n",
        "\n"
      ],
      "metadata": {
        "id": "RNx4tx4Lt7Ai"
      }
    },
    {
      "cell_type": "code",
      "source": [
        "# Define Target variable\n",
        "df['LOG_PPSF'] = np.log1p(df['PricePerSqFt'])\n",
        "y = df['LOG_PPSF']\n",
        "\n",
        "# Define Independent variables / features\n",
        "feature_cols = [\n",
        "    'BEDS', 'BATHS', 'SQUARE FEET', 'LOT SIZE', 'HOA/MONTH',\n",
        "    'BedBathProduct', 'HomeAge', 'SaleQtr', 'HasHOA',\n",
        "    'CITY_ENCODED', 'ZIP_ENCODED', 'PROPERTY_TYPE_ENCODED',\n",
        "    'LotToHomeRatio', 'BedToBathRatio', 'IsLuxury',\n",
        "    'AvgPPSF_KNN'\n",
        "]\n",
        "X = df[feature_cols]\n",
        "\n",
        "# Hyper parameters\n",
        "param_dist = {\n",
        "    'n_estimators': [100, 200, 300, 400],\n",
        "    'max_depth': [3, 5, 6, 8, 10],\n",
        "    'learning_rate': [0.01, 0.05, 0.1, 0.2],\n",
        "    'subsample': [0.6, 0.8, 1.0],\n",
        "    'colsample_bytree': [0.6, 0.8, 1.0],\n",
        "    'min_child_weight': [1, 3, 5, 10]\n",
        "}"
      ],
      "metadata": {
        "collapsed": true,
        "id": "-a05atnHwT-O"
      },
      "execution_count": 26,
      "outputs": []
    },
    {
      "cell_type": "markdown",
      "source": [
        "MODEL ONE - Random Forest"
      ],
      "metadata": {
        "id": "fUEH268DBxbG"
      }
    },
    {
      "cell_type": "code",
      "source": [
        "# Train/test split\n",
        "X_train, X_test, y_train, y_test = train_test_split(X, y, test_size=0.2, random_state=42)\n",
        "\n",
        "# Train Random Forest Model\n",
        "model = RandomForestRegressor(n_estimators=100, random_state=42)\n",
        "model.fit(X_train, y_train)\n",
        "\n",
        "# Evaluate model\n",
        "y_pred_log = model.predict(X_test)\n",
        "\n",
        "# Reverse log1p to get $/sqft\n",
        "y_pred = np.expm1(y_pred_log)\n",
        "y_actual = np.expm1(y_test)\n",
        "\n",
        "# Calculate MAE in real-world $/sqft\n",
        "mae = mean_absolute_error(y_actual, y_pred)\n",
        "print(f\"📉 Random Forest MAE: ${mae:,.2f}\")"
      ],
      "metadata": {
        "id": "491xDVbdxK43",
        "colab": {
          "base_uri": "https://localhost:8080/"
        },
        "outputId": "e89924a6-aa41-40e8-de49-5d13ed9e8cf8"
      },
      "execution_count": 27,
      "outputs": [
        {
          "output_type": "stream",
          "name": "stdout",
          "text": [
            "📉 Random Forest MAE: $32.46\n"
          ]
        }
      ]
    },
    {
      "cell_type": "markdown",
      "source": [
        "MODEL TWO - XGBoost\n",
        "\n"
      ],
      "metadata": {
        "id": "ANWigRG2_QGZ"
      }
    },
    {
      "cell_type": "code",
      "source": [
        "# Train / test split\n",
        "X_train, X_test, y_train, y_test = train_test_split(X, y, test_size=0.2, random_state=41)\n",
        "\n",
        "# Train XGBoost model\n",
        "xgb_base = XGBRegressor(objective='reg:squarederror', random_state=41)\n",
        "\n",
        "search = RandomizedSearchCV(\n",
        "    estimator=xgb_base,\n",
        "    param_distributions=param_dist,\n",
        "    n_iter=25,               # Try 25 combinations\n",
        "    cv=3,                    # 3-fold cross-validation\n",
        "    scoring='neg_mean_absolute_error',\n",
        "    verbose=1,\n",
        "    random_state=42,\n",
        "    n_jobs=-1\n",
        ")\n",
        "\n",
        "search.fit(X_train, y_train)\n",
        "\n",
        "# Best model\n",
        "best_xgb = search.best_estimator_\n",
        "print(\"✅ Best params:\", search.best_params_)\n",
        "\n",
        "# Evaluate Model\n",
        "y_pred_log = best_xgb.predict(X_test)\n",
        "\n",
        "# Reverse log1p to get $/sqft\n",
        "y_pred = np.expm1(y_pred_log)\n",
        "y_actual = np.expm1(y_test)\n",
        "\n",
        "# Calculate MAE in real-world $/sqft\n",
        "mae = mean_absolute_error(y_actual, y_pred)\n",
        "print(f\"✅ XGBoost MAE: ${mae:.2f} per sq ft\")"
      ],
      "metadata": {
        "collapsed": true,
        "id": "WP3vRPM-6k63",
        "colab": {
          "base_uri": "https://localhost:8080/"
        },
        "outputId": "e8a93dc4-83e0-453d-a6b5-acb3e2907778"
      },
      "execution_count": 28,
      "outputs": [
        {
          "output_type": "stream",
          "name": "stdout",
          "text": [
            "Fitting 3 folds for each of 25 candidates, totalling 75 fits\n",
            "✅ Best params: {'subsample': 0.8, 'n_estimators': 400, 'min_child_weight': 5, 'max_depth': 10, 'learning_rate': 0.05, 'colsample_bytree': 0.6}\n",
            "✅ XGBoost MAE: $30.73 per sq ft\n"
          ]
        }
      ]
    },
    {
      "cell_type": "code",
      "source": [
        "from sklearn.metrics import mean_squared_error, r2_score\n",
        "\n",
        "rmse = np.sqrt(mean_squared_error(y_actual, y_pred))\n",
        "r2 = r2_score(y_actual, y_pred)\n",
        "\n",
        "print(f\"📉 MAE: ${mae:.2f}\")\n",
        "print(f\"📐 RMSE: ${rmse:.2f}\")\n",
        "print(f\"📊 R² Score: {r2:.3f}\")\n"
      ],
      "metadata": {
        "colab": {
          "base_uri": "https://localhost:8080/"
        },
        "id": "_JGjLpq0yzWp",
        "outputId": "57b8dacb-ee27-4fc0-97a1-55a81a3c986d"
      },
      "execution_count": 29,
      "outputs": [
        {
          "output_type": "stream",
          "name": "stdout",
          "text": [
            "📉 MAE: $30.73\n",
            "📐 RMSE: $44.58\n",
            "📊 R² Score: 0.586\n"
          ]
        }
      ]
    },
    {
      "cell_type": "code",
      "source": [
        "!pip install catboost --quiet\n"
      ],
      "metadata": {
        "colab": {
          "base_uri": "https://localhost:8080/"
        },
        "id": "EsS9F8a1zCYj",
        "outputId": "9fc2b1fb-bd15-444e-f5e8-d617d3ad87a9"
      },
      "execution_count": 30,
      "outputs": [
        {
          "output_type": "stream",
          "name": "stdout",
          "text": [
            "\u001b[2K   \u001b[90m━━━━━━━━━━━━━━━━━━━━━━━━━━━━━━━━━━━━━━━━\u001b[0m \u001b[32m99.2/99.2 MB\u001b[0m \u001b[31m8.3 MB/s\u001b[0m eta \u001b[36m0:00:00\u001b[0m\n",
            "\u001b[?25h"
          ]
        }
      ]
    },
    {
      "cell_type": "code",
      "source": [
        "from catboost import CatBoostRegressor\n",
        "from sklearn.metrics import mean_absolute_error, mean_squared_error, r2_score\n",
        "import numpy as np\n",
        "\n",
        "# Reuse existing train-test split\n",
        "# X_train, X_test, y_train, y_test already defined\n",
        "\n",
        "# Initialize and train CatBoost\n",
        "cat_model = CatBoostRegressor(\n",
        "    iterations=1000,\n",
        "    learning_rate=0.05,\n",
        "    depth=6,\n",
        "    loss_function='MAE',\n",
        "    verbose=100,\n",
        "    random_seed=42\n",
        ")\n",
        "\n",
        "cat_model.fit(X_train, y_train)\n",
        "\n",
        "# Predict\n",
        "y_pred_log = cat_model.predict(X_test)\n",
        "\n",
        "# Reverse log1p to get $/sqft\n",
        "y_pred = np.expm1(y_pred_log)\n",
        "y_actual = np.expm1(y_test)\n",
        "\n",
        "# Evaluate\n",
        "mae = mean_absolute_error(y_actual, y_pred)\n",
        "rmse = np.sqrt(mean_squared_error(y_actual, y_pred))\n",
        "r2 = r2_score(y_actual, y_pred)\n",
        "\n",
        "print(f\"🐱 CatBoost MAE: ${mae:.2f}\")\n",
        "print(f\"🐱 RMSE: ${rmse:.2f}\")\n",
        "print(f\"🐱 R² Score: {r2:.3f}\")\n"
      ],
      "metadata": {
        "colab": {
          "base_uri": "https://localhost:8080/"
        },
        "id": "9H8mQTEHy9Mr",
        "outputId": "7e92e4a3-7184-4a7f-a5c9-d847ee85f4ec"
      },
      "execution_count": 31,
      "outputs": [
        {
          "output_type": "stream",
          "name": "stdout",
          "text": [
            "0:\tlearn: 0.2472606\ttotal: 52.4ms\tremaining: 52.4s\n",
            "100:\tlearn: 0.1612280\ttotal: 1.36s\tremaining: 12.1s\n",
            "200:\tlearn: 0.1516872\ttotal: 1.8s\tremaining: 7.17s\n",
            "300:\tlearn: 0.1448304\ttotal: 2.25s\tremaining: 5.23s\n",
            "400:\tlearn: 0.1402344\ttotal: 2.71s\tremaining: 4.05s\n",
            "500:\tlearn: 0.1367259\ttotal: 3.38s\tremaining: 3.37s\n",
            "600:\tlearn: 0.1339479\ttotal: 3.86s\tremaining: 2.56s\n",
            "700:\tlearn: 0.1317127\ttotal: 4.76s\tremaining: 2.03s\n",
            "800:\tlearn: 0.1297237\ttotal: 5.96s\tremaining: 1.48s\n",
            "900:\tlearn: 0.1279774\ttotal: 8.04s\tremaining: 884ms\n",
            "999:\tlearn: 0.1265217\ttotal: 10.2s\tremaining: 0us\n",
            "🐱 CatBoost MAE: $31.17\n",
            "🐱 RMSE: $45.19\n",
            "🐱 R² Score: 0.575\n"
          ]
        }
      ]
    },
    {
      "cell_type": "code",
      "source": [
        "import pickle\n",
        "\n",
        "# Replace best_xgb with your model variable (e.g., best_cat or model)\n",
        "with open('best_model.pkl', 'wb') as f:\n",
        "    pickle.dump(best_xgb, f)\n"
      ],
      "metadata": {
        "id": "1tOVFtYYkKdu"
      },
      "execution_count": 33,
      "outputs": []
    },
    {
      "cell_type": "code",
      "source": [
        "from google.colab import files\n",
        "files.download('best_model.pkl')\n"
      ],
      "metadata": {
        "colab": {
          "base_uri": "https://localhost:8080/",
          "height": 17
        },
        "id": "66ZiRjtjmRIJ",
        "outputId": "e2aa932a-86d2-4c25-8a31-eb607319767a"
      },
      "execution_count": 34,
      "outputs": [
        {
          "output_type": "display_data",
          "data": {
            "text/plain": [
              "<IPython.core.display.Javascript object>"
            ],
            "application/javascript": [
              "\n",
              "    async function download(id, filename, size) {\n",
              "      if (!google.colab.kernel.accessAllowed) {\n",
              "        return;\n",
              "      }\n",
              "      const div = document.createElement('div');\n",
              "      const label = document.createElement('label');\n",
              "      label.textContent = `Downloading \"${filename}\": `;\n",
              "      div.appendChild(label);\n",
              "      const progress = document.createElement('progress');\n",
              "      progress.max = size;\n",
              "      div.appendChild(progress);\n",
              "      document.body.appendChild(div);\n",
              "\n",
              "      const buffers = [];\n",
              "      let downloaded = 0;\n",
              "\n",
              "      const channel = await google.colab.kernel.comms.open(id);\n",
              "      // Send a message to notify the kernel that we're ready.\n",
              "      channel.send({})\n",
              "\n",
              "      for await (const message of channel.messages) {\n",
              "        // Send a message to notify the kernel that we're ready.\n",
              "        channel.send({})\n",
              "        if (message.buffers) {\n",
              "          for (const buffer of message.buffers) {\n",
              "            buffers.push(buffer);\n",
              "            downloaded += buffer.byteLength;\n",
              "            progress.value = downloaded;\n",
              "          }\n",
              "        }\n",
              "      }\n",
              "      const blob = new Blob(buffers, {type: 'application/binary'});\n",
              "      const a = document.createElement('a');\n",
              "      a.href = window.URL.createObjectURL(blob);\n",
              "      a.download = filename;\n",
              "      div.appendChild(a);\n",
              "      a.click();\n",
              "      div.remove();\n",
              "    }\n",
              "  "
            ]
          },
          "metadata": {}
        },
        {
          "output_type": "display_data",
          "data": {
            "text/plain": [
              "<IPython.core.display.Javascript object>"
            ],
            "application/javascript": [
              "download(\"download_8766df60-5c20-45b6-91b9-6e7173932211\", \"best_model.pkl\", 7005867)"
            ]
          },
          "metadata": {}
        }
      ]
    }
  ]
}